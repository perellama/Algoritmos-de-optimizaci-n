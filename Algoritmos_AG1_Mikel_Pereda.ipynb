{
  "nbformat": 4,
  "nbformat_minor": 0,
  "metadata": {
    "colab": {
      "provenance": [],
      "include_colab_link": true
    },
    "kernelspec": {
      "name": "python3",
      "display_name": "Python 3"
    },
    "language_info": {
      "name": "python"
    }
  },
  "cells": [
    {
      "cell_type": "markdown",
      "metadata": {
        "id": "view-in-github",
        "colab_type": "text"
      },
      "source": [
        "<a href=\"https://colab.research.google.com/github/perellama/Algoritmos-de-optimizaci-n/blob/main/Algoritmos_AG1_Mikel_Pereda.ipynb\" target=\"_parent\"><img src=\"https://colab.research.google.com/assets/colab-badge.svg\" alt=\"Open In Colab\"/></a>"
      ]
    },
    {
      "cell_type": "markdown",
      "metadata": {
        "id": "GG2D6vLdYwwy"
      },
      "source": [
        "Actividad Guiada 1 de Algoritmos de Optimizacion\n",
        "\n",
        "Nombre: Mikel Pereda\n",
        "DRIVE:https://colab.research.google.com/drive/1Na0ubCrss1QPF-lGzEo79x2-mUln4_S2\n",
        "\n"
      ]
    },
    {
      "cell_type": "code",
      "metadata": {
        "id": "rTiqLuX2ZKuL",
        "outputId": "7dc2eed1-4e2a-4196-e067-28c28b7156b7",
        "colab": {
          "base_uri": "https://localhost:8080/"
        }
      },
      "source": [
        "#Torres de Hanoi - Divide y venceras\n",
        "################################################################################\n",
        "\n",
        "\n",
        "################################################################\n",
        "def Torres_Hanoi(N, desde, hasta):\n",
        "  #N - Nº de fichas\n",
        "  #desde - torre inicial\n",
        "  #hasta - torre fina\n",
        "  if N==1 :\n",
        "    print(\"Lleva la ficha desde \" + str(desde) + \" hasta \" + str(hasta))\n",
        "\n",
        "  else:\n",
        "    Torres_Hanoi(N-1, desde, 6-desde-hasta)\n",
        "    print(\"Lleva la ficha desde \" + str(desde) + \" hasta \" + str(hasta))\n",
        "    Torres_Hanoi(N-1, 6-desde-hasta,  hasta)\n",
        "\n",
        "Torres_Hanoi(5, 1, 3)\n",
        "################################################################"
      ],
      "execution_count": null,
      "outputs": [
        {
          "output_type": "stream",
          "name": "stdout",
          "text": [
            "Lleva la ficha desde 1 hasta 3\n",
            "Lleva la ficha desde 1 hasta 2\n",
            "Lleva la ficha desde 3 hasta 2\n",
            "Lleva la ficha desde 1 hasta 3\n",
            "Lleva la ficha desde 2 hasta 1\n",
            "Lleva la ficha desde 2 hasta 3\n",
            "Lleva la ficha desde 1 hasta 3\n",
            "Lleva la ficha desde 1 hasta 2\n",
            "Lleva la ficha desde 3 hasta 2\n",
            "Lleva la ficha desde 3 hasta 1\n",
            "Lleva la ficha desde 2 hasta 1\n",
            "Lleva la ficha desde 3 hasta 2\n",
            "Lleva la ficha desde 1 hasta 3\n",
            "Lleva la ficha desde 1 hasta 2\n",
            "Lleva la ficha desde 3 hasta 2\n",
            "Lleva la ficha desde 1 hasta 3\n",
            "Lleva la ficha desde 2 hasta 1\n",
            "Lleva la ficha desde 2 hasta 3\n",
            "Lleva la ficha desde 1 hasta 3\n",
            "Lleva la ficha desde 2 hasta 1\n",
            "Lleva la ficha desde 3 hasta 2\n",
            "Lleva la ficha desde 3 hasta 1\n",
            "Lleva la ficha desde 2 hasta 1\n",
            "Lleva la ficha desde 2 hasta 3\n",
            "Lleva la ficha desde 1 hasta 3\n",
            "Lleva la ficha desde 1 hasta 2\n",
            "Lleva la ficha desde 3 hasta 2\n",
            "Lleva la ficha desde 1 hasta 3\n",
            "Lleva la ficha desde 2 hasta 1\n",
            "Lleva la ficha desde 2 hasta 3\n",
            "Lleva la ficha desde 1 hasta 3\n"
          ]
        }
      ]
    },
    {
      "cell_type": "code",
      "metadata": {
        "id": "UTL6wiczQVDA"
      },
      "source": [],
      "execution_count": null,
      "outputs": []
    },
    {
      "cell_type": "code",
      "metadata": {
        "id": "YwBudj2hYoMR",
        "colab": {
          "base_uri": "https://localhost:8080/"
        },
        "outputId": "fafb59b4-9778-42de-e27d-531401f732e8"
      },
      "source": [
        "#Cambio de monedas - Técnica voraz\n",
        "################################################################################\n",
        "SISTEMA = [11, 5 ,  1  ]\n",
        "################################################################\n",
        "def cambio_monedas(CANTIDAD,SISTEMA):\n",
        "#....\n",
        "  SOLUCION = [0]*len(SISTEMA)\n",
        "  ValorAcumulado = 0\n",
        "\n",
        "  for i,valor in enumerate(SISTEMA):\n",
        "    monedas = (CANTIDAD-ValorAcumulado)//valor\n",
        "    SOLUCION[i] = monedas\n",
        "    ValorAcumulado = ValorAcumulado + monedas*valor\n",
        "\n",
        "    if CANTIDAD == ValorAcumulado:\n",
        "      return SOLUCION\n",
        "\n",
        "  print(\"No es posible encontrar solucion\")\n",
        "\n",
        "cambio_monedas(15,SISTEMA)\n",
        "\n",
        "\n",
        "################################################################"
      ],
      "execution_count": null,
      "outputs": [
        {
          "output_type": "execute_result",
          "data": {
            "text/plain": [
              "[1, 0, 4]"
            ]
          },
          "metadata": {},
          "execution_count": 3
        }
      ]
    },
    {
      "cell_type": "code",
      "metadata": {
        "id": "9toJ4WjhQUNj"
      },
      "source": [],
      "execution_count": null,
      "outputs": []
    },
    {
      "cell_type": "code",
      "metadata": {
        "id": "H4Iwt2XRZTFr",
        "colab": {
          "base_uri": "https://localhost:8080/"
        },
        "outputId": "74cf04c4-a4ac-4ec6-a297-4f50a05d57d3"
      },
      "source": [
        "#N Reinas - Vuelta Atrás()\n",
        "################################################################################\n",
        "\n",
        "#Verifica que en la solución parcial no hay amenzas entre reinas\n",
        "################################################################\n",
        "def es_prometedora(SOLUCION,etapa):\n",
        "################################################################\n",
        "  #print(SOLUCION)\n",
        "  #Si la solución tiene dos valores iguales no es valida => Dos reinas en la misma fila\n",
        "  for i in range(etapa+1):\n",
        "    #print(\"El valor \" + str(SOLUCION[i]) + \" está \" +  str(SOLUCION.count(SOLUCION[i])) + \" veces\")\n",
        "    if SOLUCION.count(SOLUCION[i]) > 1:\n",
        "      return False\n",
        "\n",
        "    #Verifica las diagonales\n",
        "    for j in range(i+1, etapa +1 ):\n",
        "      #print(\"Comprobando diagonal de \" + str(i) + \" y \" + str(j))\n",
        "      if abs(i-j) == abs(SOLUCION[i]-SOLUCION[j]) : return False\n",
        "  return True\n",
        "\n",
        "#Traduce la solución al tablero\n",
        "################################################################\n",
        "def escribe_solucion(S):\n",
        "################################################################\n",
        "  n = len(S)\n",
        "  for x in range(n):\n",
        "    print(\"\")\n",
        "    for i in range(n):\n",
        "      if S[i] == x+1:\n",
        "        print(\" X \" , end=\"\")\n",
        "      else:\n",
        "        print(\" - \", end=\"\")\n",
        "\n",
        "\n",
        "\n",
        "#Proceso principal de N-Reinas\n",
        "################################################################\n",
        "def reinas(N, solucion=[],etapa=0):\n",
        "################################################################\n",
        "### ....\n",
        "  if len(solucion) == 0:         # [0,0,0...]\n",
        "    solucion = [0 for i in range(N) ]\n",
        "\n",
        "  for i in range(1, N+1):\n",
        "    solucion[etapa] = i\n",
        "    if es_prometedora(solucion, etapa):\n",
        "      if etapa == N-1:\n",
        "        print(solucion)\n",
        "      else:\n",
        "        reinas(N, solucion, etapa+1)\n",
        "    else:\n",
        "      None\n",
        "\n",
        "  solucion[etapa] = 0\n",
        "\n",
        "reinas(8,solucion=[],etapa=0)"
      ],
      "execution_count": null,
      "outputs": [
        {
          "output_type": "stream",
          "name": "stdout",
          "text": [
            "[1, 5, 8, 6, 3, 7, 2, 4]\n",
            "[1, 6, 8, 3, 7, 4, 2, 5]\n",
            "[1, 7, 4, 6, 8, 2, 5, 3]\n",
            "[1, 7, 5, 8, 2, 4, 6, 3]\n",
            "[2, 4, 6, 8, 3, 1, 7, 5]\n",
            "[2, 5, 7, 1, 3, 8, 6, 4]\n",
            "[2, 5, 7, 4, 1, 8, 6, 3]\n",
            "[2, 6, 1, 7, 4, 8, 3, 5]\n",
            "[2, 6, 8, 3, 1, 4, 7, 5]\n",
            "[2, 7, 3, 6, 8, 5, 1, 4]\n",
            "[2, 7, 5, 8, 1, 4, 6, 3]\n",
            "[2, 8, 6, 1, 3, 5, 7, 4]\n",
            "[3, 1, 7, 5, 8, 2, 4, 6]\n",
            "[3, 5, 2, 8, 1, 7, 4, 6]\n",
            "[3, 5, 2, 8, 6, 4, 7, 1]\n",
            "[3, 5, 7, 1, 4, 2, 8, 6]\n",
            "[3, 5, 8, 4, 1, 7, 2, 6]\n",
            "[3, 6, 2, 5, 8, 1, 7, 4]\n",
            "[3, 6, 2, 7, 1, 4, 8, 5]\n",
            "[3, 6, 2, 7, 5, 1, 8, 4]\n",
            "[3, 6, 4, 1, 8, 5, 7, 2]\n",
            "[3, 6, 4, 2, 8, 5, 7, 1]\n",
            "[3, 6, 8, 1, 4, 7, 5, 2]\n",
            "[3, 6, 8, 1, 5, 7, 2, 4]\n",
            "[3, 6, 8, 2, 4, 1, 7, 5]\n",
            "[3, 7, 2, 8, 5, 1, 4, 6]\n",
            "[3, 7, 2, 8, 6, 4, 1, 5]\n",
            "[3, 8, 4, 7, 1, 6, 2, 5]\n",
            "[4, 1, 5, 8, 2, 7, 3, 6]\n",
            "[4, 1, 5, 8, 6, 3, 7, 2]\n",
            "[4, 2, 5, 8, 6, 1, 3, 7]\n",
            "[4, 2, 7, 3, 6, 8, 1, 5]\n",
            "[4, 2, 7, 3, 6, 8, 5, 1]\n",
            "[4, 2, 7, 5, 1, 8, 6, 3]\n",
            "[4, 2, 8, 5, 7, 1, 3, 6]\n",
            "[4, 2, 8, 6, 1, 3, 5, 7]\n",
            "[4, 6, 1, 5, 2, 8, 3, 7]\n",
            "[4, 6, 8, 2, 7, 1, 3, 5]\n",
            "[4, 6, 8, 3, 1, 7, 5, 2]\n",
            "[4, 7, 1, 8, 5, 2, 6, 3]\n",
            "[4, 7, 3, 8, 2, 5, 1, 6]\n",
            "[4, 7, 5, 2, 6, 1, 3, 8]\n",
            "[4, 7, 5, 3, 1, 6, 8, 2]\n",
            "[4, 8, 1, 3, 6, 2, 7, 5]\n",
            "[4, 8, 1, 5, 7, 2, 6, 3]\n",
            "[4, 8, 5, 3, 1, 7, 2, 6]\n",
            "[5, 1, 4, 6, 8, 2, 7, 3]\n",
            "[5, 1, 8, 4, 2, 7, 3, 6]\n",
            "[5, 1, 8, 6, 3, 7, 2, 4]\n",
            "[5, 2, 4, 6, 8, 3, 1, 7]\n",
            "[5, 2, 4, 7, 3, 8, 6, 1]\n",
            "[5, 2, 6, 1, 7, 4, 8, 3]\n",
            "[5, 2, 8, 1, 4, 7, 3, 6]\n",
            "[5, 3, 1, 6, 8, 2, 4, 7]\n",
            "[5, 3, 1, 7, 2, 8, 6, 4]\n",
            "[5, 3, 8, 4, 7, 1, 6, 2]\n",
            "[5, 7, 1, 3, 8, 6, 4, 2]\n",
            "[5, 7, 1, 4, 2, 8, 6, 3]\n",
            "[5, 7, 2, 4, 8, 1, 3, 6]\n",
            "[5, 7, 2, 6, 3, 1, 4, 8]\n",
            "[5, 7, 2, 6, 3, 1, 8, 4]\n",
            "[5, 7, 4, 1, 3, 8, 6, 2]\n",
            "[5, 8, 4, 1, 3, 6, 2, 7]\n",
            "[5, 8, 4, 1, 7, 2, 6, 3]\n",
            "[6, 1, 5, 2, 8, 3, 7, 4]\n",
            "[6, 2, 7, 1, 3, 5, 8, 4]\n",
            "[6, 2, 7, 1, 4, 8, 5, 3]\n",
            "[6, 3, 1, 7, 5, 8, 2, 4]\n",
            "[6, 3, 1, 8, 4, 2, 7, 5]\n",
            "[6, 3, 1, 8, 5, 2, 4, 7]\n",
            "[6, 3, 5, 7, 1, 4, 2, 8]\n",
            "[6, 3, 5, 8, 1, 4, 2, 7]\n",
            "[6, 3, 7, 2, 4, 8, 1, 5]\n",
            "[6, 3, 7, 2, 8, 5, 1, 4]\n",
            "[6, 3, 7, 4, 1, 8, 2, 5]\n",
            "[6, 4, 1, 5, 8, 2, 7, 3]\n",
            "[6, 4, 2, 8, 5, 7, 1, 3]\n",
            "[6, 4, 7, 1, 3, 5, 2, 8]\n",
            "[6, 4, 7, 1, 8, 2, 5, 3]\n",
            "[6, 8, 2, 4, 1, 7, 5, 3]\n",
            "[7, 1, 3, 8, 6, 4, 2, 5]\n",
            "[7, 2, 4, 1, 8, 5, 3, 6]\n",
            "[7, 2, 6, 3, 1, 4, 8, 5]\n",
            "[7, 3, 1, 6, 8, 5, 2, 4]\n",
            "[7, 3, 8, 2, 5, 1, 6, 4]\n",
            "[7, 4, 2, 5, 8, 1, 3, 6]\n",
            "[7, 4, 2, 8, 6, 1, 3, 5]\n",
            "[7, 5, 3, 1, 6, 8, 2, 4]\n",
            "[8, 2, 4, 1, 7, 5, 3, 6]\n",
            "[8, 2, 5, 3, 1, 7, 4, 6]\n",
            "[8, 3, 1, 6, 2, 5, 7, 4]\n",
            "[8, 4, 1, 3, 6, 2, 7, 5]\n"
          ]
        }
      ]
    },
    {
      "cell_type": "code",
      "metadata": {
        "id": "eTZclKH9QV0R",
        "colab": {
          "base_uri": "https://localhost:8080/"
        },
        "outputId": "6710739d-9cc3-425b-b6b1-198368271e60"
      },
      "source": [
        "escribe_solucion([1, 5, 8, 6, 3, 7, 2, 4])"
      ],
      "execution_count": null,
      "outputs": [
        {
          "output_type": "stream",
          "name": "stdout",
          "text": [
            "\n",
            " X  -  -  -  -  -  -  - \n",
            " -  -  -  -  -  -  X  - \n",
            " -  -  -  -  X  -  -  - \n",
            " -  -  -  -  -  -  -  X \n",
            " -  X  -  -  -  -  -  - \n",
            " -  -  -  X  -  -  -  - \n",
            " -  -  -  -  -  X  -  - \n",
            " -  -  X  -  -  -  -  - "
          ]
        }
      ]
    },
    {
      "cell_type": "code",
      "metadata": {
        "id": "TocxR55dQWq5",
        "outputId": "3df7fb00-a31b-4688-b582-5140a79a7235",
        "colab": {
          "base_uri": "https://localhost:8080/",
          "height": 365
        }
      },
      "source": [
        "#Viaje por el rio - Programación dinámica\n",
        "################################################################################\n",
        "\n",
        "TARIFAS = [\n",
        "[0,5,4,3,999,999,999],\n",
        "[999,0,999,2,3,999,11],\n",
        "[999,999, 0,1,999,4,10],\n",
        "[999,999,999, 0,5,6,9],\n",
        "[999,999, 999,999,0,999,4],\n",
        "[999,999, 999,999,999,0,3],\n",
        "[999,999,999,999,999,999,0]\n",
        "]\n",
        "\n",
        "#999 se puede sustituir por float(\"inf\")\n",
        "\n",
        "\n",
        "#Calculo de la matriz de PRECIOS y RUTAS\n",
        "################################################################\n",
        "def Precios(TARIFAS):\n",
        "################################################################\n",
        "  #Total de Nodos\n",
        "  N = len(TARIFAS[0])\n",
        "\n",
        "  #Inicialización de la tabla de precios\n",
        "  PRECIOS = [ [9999]*N for i in [9999]*N]\n",
        "  RUTA = [ [\"\"]*N for i in [\"\"]*N]\n",
        "\n",
        "  for i in range(0,N-1):\n",
        "    RUTA[i][i] = i             #Para ir de i a i se \"pasa por i\"\n",
        "    PRECIOS[i][i] = 0          #Para ir de i a i se se paga 0\n",
        "    for j in range(i+1, N):\n",
        "      MIN = TARIFAS[i][j]\n",
        "      RUTA[i][j] = i\n",
        "\n",
        "      for k in range(i, j):\n",
        "        if PRECIOS[i][k] + TARIFAS[k][j] < MIN:\n",
        "            MIN = min(MIN, PRECIOS[i][k] + TARIFAS[k][j] )\n",
        "            RUTA[i][j] = k          #Anota que para ir de i a j hay que pasar por k\n",
        "        PRECIOS[i][j] = MIN\n",
        "\n",
        "  return PRECIOS,RUTA\n",
        "################################################################\n",
        "\n",
        "PRECIOS,RUTA = Precios(TARIFAS)\n",
        "#print(PRECIOS[0][6])\n",
        "\n",
        "print(\"PRECIOS\")\n",
        "for i in range(len(TARIFAS)):\n",
        "  print(PRECIOS[i])\n",
        "\n",
        "print(\"\\nRUTA\")\n",
        "for i in range(len(TARIFAS)):\n",
        "  print(RUTA[i])\n",
        "\n",
        "#Determinar la ruta con Recursividad\n",
        "def calcular_ruta(RUTA, desde, hasta):\n",
        "  if desde == hasta:\n",
        "    #print(\"Ir a :\" + str(desde))\n",
        "    return \"\"\n",
        "  else:\n",
        "    return str(calcular_ruta( RUTA, desde, RUTA[desde][hasta])) +  \\\n",
        "                ',' + \\\n",
        "                str(RUTA[desde][hasta] \\\n",
        "              )\n",
        "\n",
        "print(\"\\nLa ruta es:\")\n",
        "calcular_ruta(RUTA, 0,6)"
      ],
      "execution_count": null,
      "outputs": [
        {
          "output_type": "stream",
          "name": "stdout",
          "text": [
            "PRECIOS\n",
            "[0, 5, 4, 3, 8, 8, 11]\n",
            "[9999, 0, 999, 2, 3, 8, 7]\n",
            "[9999, 9999, 0, 1, 6, 4, 7]\n",
            "[9999, 9999, 9999, 0, 5, 6, 9]\n",
            "[9999, 9999, 9999, 9999, 0, 999, 4]\n",
            "[9999, 9999, 9999, 9999, 9999, 0, 3]\n",
            "[9999, 9999, 9999, 9999, 9999, 9999, 9999]\n",
            "\n",
            "RUTA\n",
            "[0, 0, 0, 0, 1, 2, 5]\n",
            "['', 1, 1, 1, 1, 3, 4]\n",
            "['', '', 2, 2, 3, 2, 5]\n",
            "['', '', '', 3, 3, 3, 3]\n",
            "['', '', '', '', 4, 4, 4]\n",
            "['', '', '', '', '', 5, 5]\n",
            "['', '', '', '', '', '', '']\n",
            "\n",
            "La ruta es:\n"
          ]
        },
        {
          "output_type": "execute_result",
          "data": {
            "text/plain": [
              "',0,2,5'"
            ],
            "application/vnd.google.colaboratory.intrinsic+json": {
              "type": "string"
            }
          },
          "metadata": {},
          "execution_count": 6
        }
      ]
    },
    {
      "cell_type": "markdown",
      "source": [
        "RESOLVER PROBLEMA DE PUNTOS MÁS CERCANOS"
      ],
      "metadata": {
        "id": "HfLdn32xKVg4"
      }
    },
    {
      "cell_type": "markdown",
      "source": [
        "##LISTA DE 1 DIMENSIÓN"
      ],
      "metadata": {
        "id": "8sh0XTswbyN4"
      }
    },
    {
      "cell_type": "code",
      "source": [
        "import random\n",
        "\n",
        "LISTA_1D=[random.randrange(1,10000) for x in range(1000)]"
      ],
      "metadata": {
        "id": "CUm_tCJ50dkd"
      },
      "execution_count": 17,
      "outputs": []
    },
    {
      "cell_type": "code",
      "source": [
        "import math\n",
        "\n",
        "def distancia(p1, p2):\n",
        "    return abs(p1 - p2)"
      ],
      "metadata": {
        "id": "RBghhLEbaTUj"
      },
      "execution_count": 18,
      "outputs": []
    },
    {
      "cell_type": "code",
      "source": [
        "def fuerza_bruta(PUNTOS):\n",
        "  n = len(PUNTOS)\n",
        "  if n <= 1:\n",
        "      return float('inf'), None, None\n",
        "\n",
        "  min=1000000\n",
        "  for i in range(len(PUNTOS)):\n",
        "    for j in range(i+1,len(PUNTOS)):\n",
        "      if abs(PUNTOS[i]-PUNTOS[j])<min:\n",
        "        min=abs(PUNTOS[i]-PUNTOS[j])\n",
        "        p0=i\n",
        "        p1=j\n",
        "  return min,PUNTOS[p0],PUNTOS[p1]"
      ],
      "metadata": {
        "id": "cRCMzdVkPL5b"
      },
      "execution_count": 19,
      "outputs": []
    },
    {
      "cell_type": "code",
      "source": [
        "%time fuerza_bruta(LISTA_1D)"
      ],
      "metadata": {
        "colab": {
          "base_uri": "https://localhost:8080/"
        },
        "id": "RUa5Rf5S5cQA",
        "outputId": "b79a118a-03c2-44c8-d602-ae2089914e57"
      },
      "execution_count": 47,
      "outputs": [
        {
          "output_type": "stream",
          "name": "stdout",
          "text": [
            "CPU times: user 78.2 ms, sys: 0 ns, total: 78.2 ms\n",
            "Wall time: 78.6 ms\n"
          ]
        },
        {
          "output_type": "execute_result",
          "data": {
            "text/plain": [
              "(0, 4067, 4067)"
            ]
          },
          "metadata": {},
          "execution_count": 47
        }
      ]
    },
    {
      "cell_type": "markdown",
      "source": [
        "El algoritmo de fuerza bruta dispone de un coste computacional de n^2"
      ],
      "metadata": {
        "id": "Fglt6TwRtXCx"
      }
    },
    {
      "cell_type": "code",
      "source": [
        "import random\n",
        "\n",
        "def puntos_mas_cercanos(PUNTOS):\n",
        "\n",
        "  def punto_mas_cercano_recursivo(array):\n",
        "      n = len(array)\n",
        "\n",
        "      if n <= 3:\n",
        "          return fuerza_bruta(array)\n",
        "\n",
        "      medio = n // 2\n",
        "      punto_medio = array[medio]\n",
        "\n",
        "      izquierda = array[:medio]\n",
        "      derecha = array[medio:]\n",
        "\n",
        "      d_izquierda, punto1_izq, punto2_izq = punto_mas_cercano_recursivo(izquierda)\n",
        "      d_derecha, punto1_der, punto2_der = punto_mas_cercano_recursivo(derecha)\n",
        "\n",
        "      d = min(d_izquierda, d_derecha)\n",
        "      if d==d_izquierda:\n",
        "        punto1, punto2 = punto1_izq, punto2_izq\n",
        "      else:\n",
        "        punto1, punto2 = punto1_der, punto2_der\n",
        "\n",
        "      pared = [punto for punto in array if abs(punto - punto_medio) < d]\n",
        "\n",
        "      min_pared, punto1_pared, punto2_pared = fuerza_bruta(pared)\n",
        "\n",
        "      if min_pared < d:\n",
        "          return min_pared, punto1_pared, punto2_pared\n",
        "\n",
        "      return d, punto1, punto2\n",
        "  puntos_ordenados=sorted(PUNTOS)\n",
        "  d,punto1,punto2=punto_mas_cercano_recursivo(puntos_ordenados)\n",
        "  return d, punto1, punto2\n",
        "\n",
        "# Encontrar los puntos más cercanos\n",
        "%time resultado_distancia, p1, p2 = puntos_mas_cercanos(LISTA_1D)\n",
        "print(\"La distancia más corta entre puntos es:\", resultado_distancia)\n",
        "print(\"Los puntos más cercanos son:\", p1, \"y\", p2)"
      ],
      "metadata": {
        "colab": {
          "base_uri": "https://localhost:8080/"
        },
        "id": "Gog6rXPX2z3n",
        "outputId": "9b42c7db-10a1-4543-e875-f5539264dd06"
      },
      "execution_count": 53,
      "outputs": [
        {
          "output_type": "stream",
          "name": "stdout",
          "text": [
            "CPU times: user 2.63 ms, sys: 0 ns, total: 2.63 ms\n",
            "Wall time: 2.63 ms\n",
            "La distancia más corta entre puntos es: 0\n",
            "Los puntos más cercanos son: 192 y 192\n"
          ]
        }
      ]
    },
    {
      "cell_type": "markdown",
      "source": [
        "El coste computacional del algoritmo con la técnica de divide y venceras es de n*log(n), lo que se puede observar en el tiempo de ejecución de ambos algoritmos."
      ],
      "metadata": {
        "id": "NxT5pZ3Nus-B"
      }
    },
    {
      "cell_type": "markdown",
      "source": [
        "##LISTA DE 2 DIMENSIONES"
      ],
      "metadata": {
        "id": "Gwa30rxMbufZ"
      }
    },
    {
      "cell_type": "code",
      "source": [
        "import random\n",
        "\n",
        "LISTA_2D=[(random.randrange(1,10000),random.randrange(1,10000)) for x in range(1000)]"
      ],
      "metadata": {
        "id": "gE6NuY0VVtbH"
      },
      "execution_count": 43,
      "outputs": []
    },
    {
      "cell_type": "code",
      "source": [
        "import math\n",
        "\n",
        "def distancia_2D(p1, p2):\n",
        "    return math.sqrt((p1[0] - p2[0])**2 + (p1[1] - p2[1])**2)"
      ],
      "metadata": {
        "id": "-6-wt15OaO-i"
      },
      "execution_count": 44,
      "outputs": []
    },
    {
      "cell_type": "code",
      "source": [
        "def fuerza_bruta_2D(PUNTOS):\n",
        "    n = len(PUNTOS)\n",
        "    if n <= 1:\n",
        "        return float('inf'), None, None\n",
        "\n",
        "    min=1000000\n",
        "    for i in range(len(PUNTOS)):\n",
        "      for j in range(i+1,len(PUNTOS)):\n",
        "        if distancia_2D(PUNTOS[i],PUNTOS[j])<min:\n",
        "          min=distancia_2D(PUNTOS[i],PUNTOS[j])\n",
        "          p0=i\n",
        "          p1=j\n",
        "    return min,PUNTOS[p0],PUNTOS[p1]\n",
        "\n",
        "%time fuerza_bruta_2D(LISTA_2D)\n"
      ],
      "metadata": {
        "colab": {
          "base_uri": "https://localhost:8080/"
        },
        "id": "JMsYsZrzaKAA",
        "outputId": "ca1b35ad-199c-4892-ba42-12c1b4bdbca7"
      },
      "execution_count": 50,
      "outputs": [
        {
          "output_type": "stream",
          "name": "stdout",
          "text": [
            "CPU times: user 858 ms, sys: 583 µs, total: 858 ms\n",
            "Wall time: 882 ms\n"
          ]
        },
        {
          "output_type": "execute_result",
          "data": {
            "text/plain": [
              "(9.486832980505138, (7235, 5968), (7232, 5959))"
            ]
          },
          "metadata": {},
          "execution_count": 50
        }
      ]
    },
    {
      "cell_type": "code",
      "source": [
        "import random\n",
        "\n",
        "def puntos_mas_cercanos_2D(PUNTOS):\n",
        "\n",
        "  def punto_mas_cercano_recursivo(array):\n",
        "    n = len(array)\n",
        "\n",
        "    if n <= 3:\n",
        "        return fuerza_bruta_2D(array)\n",
        "\n",
        "    medio = n // 2\n",
        "    punto_medio = array[medio]\n",
        "\n",
        "    izquierda = array[:medio]\n",
        "    derecha = array[medio:]\n",
        "\n",
        "    d_izquierda, punto1_izq, punto2_izq = punto_mas_cercano_recursivo(izquierda)\n",
        "    d_derecha, punto1_der, punto2_der = punto_mas_cercano_recursivo(derecha)\n",
        "\n",
        "    d = min(d_izquierda, d_derecha)\n",
        "    if d==d_izquierda:\n",
        "      punto1, punto2 = punto1_izq, punto2_izq\n",
        "    else:\n",
        "      punto1, punto2 = punto1_der, punto2_der\n",
        "\n",
        "    pared = [punto for punto in array if distancia_2D(punto , punto_medio) < d]\n",
        "\n",
        "    min_pared, punto1_pared, punto2_pared = fuerza_bruta_2D(pared)\n",
        "\n",
        "    if min_pared < d:\n",
        "        return min_pared, punto1_pared, punto2_pared\n",
        "\n",
        "    return d, punto1, punto2\n",
        "  puntos_ordenados=sorted(PUNTOS)\n",
        "  d,punto1,punto2=punto_mas_cercano_recursivo(puntos_ordenados)\n",
        "  return d, punto1, punto2\n",
        "\n",
        "# Encontrar los puntos más cercanos\n",
        "%time resultado_distancia, p1, p2 = puntos_mas_cercanos_2D(LISTA_2D)\n",
        "print(\"La distancia más corta entre puntos es:\", resultado_distancia)\n",
        "print(\"Los puntos más cercanos son:\", p1, \"y\", p2)\n"
      ],
      "metadata": {
        "colab": {
          "base_uri": "https://localhost:8080/"
        },
        "outputId": "10e4a5a6-8ea6-4836-e78d-ab4c9ee7bdb6",
        "id": "JSkkVgx2XvbE"
      },
      "execution_count": 49,
      "outputs": [
        {
          "output_type": "stream",
          "name": "stdout",
          "text": [
            "CPU times: user 12.3 ms, sys: 0 ns, total: 12.3 ms\n",
            "Wall time: 12.4 ms\n",
            "La distancia más corta entre puntos es: 9.486832980505138\n",
            "Los puntos más cercanos son: (7232, 5959) y (7235, 5968)\n"
          ]
        }
      ]
    },
    {
      "cell_type": "markdown",
      "source": [
        "##LISTA DE 3 DIMENSIONES"
      ],
      "metadata": {
        "id": "0iLnBumNbmrh"
      }
    },
    {
      "cell_type": "code",
      "source": [
        "import random\n",
        "LISTA_3D=[(random.randrange(1,10000),random.randrange(1,10000),random.randrange(1,10000)) for x in range(1000)]"
      ],
      "metadata": {
        "id": "y7EMQbphZ9zy"
      },
      "execution_count": 38,
      "outputs": []
    },
    {
      "cell_type": "code",
      "source": [
        "import math\n",
        "\n",
        "def distancia_3D(p1, p2):\n",
        "    return math.sqrt((p1[0] - p2[0])**2 + (p1[1] - p2[1])**2 + (p1[2] - p2[2])**2)"
      ],
      "metadata": {
        "id": "Qw-AWh2jamlo"
      },
      "execution_count": 39,
      "outputs": []
    },
    {
      "cell_type": "code",
      "source": [
        "def fuerza_bruta_3D(PUNTOS):\n",
        "    n = len(PUNTOS)\n",
        "    if n <= 1:\n",
        "        return float('inf'), None, None\n",
        "\n",
        "    min=1000000\n",
        "    for i in range(len(PUNTOS)):\n",
        "      for j in range(i+1,len(PUNTOS)):\n",
        "        if distancia_3D(PUNTOS[i],PUNTOS[j])<min:\n",
        "          min=distancia_3D(PUNTOS[i],PUNTOS[j])\n",
        "          p0=i\n",
        "          p1=j\n",
        "    return min,PUNTOS[p0],PUNTOS[p1]\n",
        "\n",
        "%time fuerza_bruta_3D(LISTA_3D)"
      ],
      "metadata": {
        "colab": {
          "base_uri": "https://localhost:8080/"
        },
        "id": "YGKM__9VaseS",
        "outputId": "a4280a86-de0e-4118-91e5-9a1ca7a70507"
      },
      "execution_count": 51,
      "outputs": [
        {
          "output_type": "stream",
          "name": "stdout",
          "text": [
            "CPU times: user 677 ms, sys: 0 ns, total: 677 ms\n",
            "Wall time: 680 ms\n"
          ]
        },
        {
          "output_type": "execute_result",
          "data": {
            "text/plain": [
              "(70.84490101623405, (7765, 781, 5884), (7808, 734, 5853))"
            ]
          },
          "metadata": {},
          "execution_count": 51
        }
      ]
    },
    {
      "cell_type": "code",
      "source": [
        "import random\n",
        "\n",
        "def puntos_mas_cercanos_3D(PUNTOS):\n",
        "\n",
        "  def punto_mas_cercano_recursivo(array):\n",
        "    n = len(array)\n",
        "\n",
        "    if n <= 3:\n",
        "        return fuerza_bruta_3D(array)\n",
        "\n",
        "    medio = n // 2\n",
        "    punto_medio = array[medio]\n",
        "\n",
        "    izquierda = array[:medio]\n",
        "    derecha = array[medio:]\n",
        "\n",
        "    d_izquierda, punto1_izq, punto2_izq = punto_mas_cercano_recursivo(izquierda)\n",
        "    d_derecha, punto1_der, punto2_der = punto_mas_cercano_recursivo(derecha)\n",
        "\n",
        "    d = min(d_izquierda, d_derecha)\n",
        "    if d==d_izquierda:\n",
        "      punto1, punto2 = punto1_izq, punto2_izq\n",
        "    else:\n",
        "      punto1, punto2 = punto1_der, punto2_der\n",
        "\n",
        "    pared = [punto for punto in array if distancia_3D(punto , punto_medio) < d]\n",
        "\n",
        "    min_pared, punto1_pared, punto2_pared = fuerza_bruta_3D(pared)\n",
        "\n",
        "    if min_pared < d:\n",
        "        return min_pared, punto1_pared, punto2_pared\n",
        "\n",
        "    return d, punto1, punto2\n",
        "  puntos_ordenados=sorted(PUNTOS)\n",
        "  d,punto1,punto2=punto_mas_cercano_recursivo(puntos_ordenados)\n",
        "  return d, punto1, punto2\n",
        "\n",
        "# Encontrar los puntos más cercanos\n",
        "%time resultado_distancia, p1, p2 = puntos_mas_cercanos_3D(LISTA_3D)\n",
        "print(\"La distancia más corta entre puntos es:\", resultado_distancia)\n",
        "print(\"Los puntos más cercanos son:\", p1, \"y\", p2)\n"
      ],
      "metadata": {
        "colab": {
          "base_uri": "https://localhost:8080/"
        },
        "outputId": "029b759a-02af-4d10-c340-9a70fd25db59",
        "id": "9u4oU9DDaAKU"
      },
      "execution_count": 52,
      "outputs": [
        {
          "output_type": "stream",
          "name": "stdout",
          "text": [
            "CPU times: user 25.1 ms, sys: 0 ns, total: 25.1 ms\n",
            "Wall time: 28.2 ms\n",
            "La distancia más corta entre puntos es: 70.84490101623405\n",
            "Los puntos más cercanos son: (7765, 781, 5884) y (7808, 734, 5853)\n"
          ]
        }
      ]
    }
  ]
}